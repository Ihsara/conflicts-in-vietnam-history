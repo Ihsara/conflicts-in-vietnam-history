{
 "cells": [
  {
   "cell_type": "code",
   "execution_count": 8,
   "metadata": {},
   "outputs": [],
   "source": [
    "from bs4 import BeautifulSoup as bs \n",
    "import urllib \n",
    "import pandas as pd\n",
    "\n",
    "\n",
    "query_str = \"https://vi.wikipedia.org/wiki/C%C3%A1c_cu%E1%BB%99c_chi%E1%BA%BFn_tranh_li%C3%AAn_quan_%C4%91%E1%BA%BFn_Vi%E1%BB%87t_Nam?oldformat=true\"\n",
    "#query_str = \"https://vnexpress.net/chien-dich-giai-cuu/tag-810752-1.html\"\n",
    "\n",
    "soup = bs(urllib.request.urlopen(query_str), 'html.parser')"
   ]
  },
  {
   "cell_type": "code",
   "execution_count": 92,
   "metadata": {},
   "outputs": [
    {
     "data": {
      "text/plain": [
       "[<li class=\"toclevel-1 tocsection-1\"><a href=\"#Thời_kỳ_nguyên_sử\"><span class=\"tocnumber\">1</span> <span class=\"toctext\">Thời kỳ nguyên sử</span></a>\n",
       " <ul>\n",
       " <li class=\"toclevel-2 tocsection-2\"><a href=\"#Kỷ_Hồng_Bàng_(2879_TCN_-_257_TCN)\"><span class=\"tocnumber\">1.1</span> <span class=\"toctext\">Kỷ Hồng Bàng (2879 TCN - 257 TCN)</span></a></li>\n",
       " <li class=\"toclevel-2 tocsection-3\"><a href=\"#Nhà_Thục_(257_TCN_-_207_TCN_hoặc_179_TCN)\"><span class=\"tocnumber\">1.2</span> <span class=\"toctext\">Nhà Thục (257 TCN - 207 TCN hoặc 179 TCN)</span></a></li>\n",
       " <li class=\"toclevel-2 tocsection-4\"><a href=\"#Nhà_Triệu_(207_TCN_-_111_TCN)\"><span class=\"tocnumber\">1.3</span> <span class=\"toctext\">Nhà Triệu (207 TCN - 111 TCN)</span></a></li>\n",
       " </ul>\n",
       " </li>,\n",
       " <li class=\"toclevel-1 tocsection-5\"><a href=\"#Thời_kỳ_Bắc_thuộc_1,_2_và_3\"><span class=\"tocnumber\">2</span> <span class=\"toctext\">Thời kỳ Bắc thuộc 1, 2 và 3</span></a>\n",
       " <ul>\n",
       " <li class=\"toclevel-2 tocsection-6\"><a href=\"#Bắc_thuộc_lần_1_(111_TCN_-_40_SCN)\"><span class=\"tocnumber\">2.1</span> <span class=\"toctext\">Bắc thuộc lần 1 (111 TCN - 40 SCN)</span></a></li>\n",
       " <li class=\"toclevel-2 tocsection-7\"><a href=\"#Trưng_Vương_(40_-_43)\"><span class=\"tocnumber\">2.2</span> <span class=\"toctext\">Trưng Vương (40 - 43)</span></a></li>\n",
       " <li class=\"toclevel-2 tocsection-8\"><a href=\"#Bắc_thuộc_lần_2_(43_-_541)\"><span class=\"tocnumber\">2.3</span> <span class=\"toctext\">Bắc thuộc lần 2 (43 - 541)</span></a></li>\n",
       " <li class=\"toclevel-2 tocsection-9\"><a href=\"#Nhà_Tiền_Lý_(544_-_602)\"><span class=\"tocnumber\">2.4</span> <span class=\"toctext\">Nhà Tiền Lý (544 - 602)</span></a></li>\n",
       " <li class=\"toclevel-2 tocsection-10\"><a href=\"#Bắc_thuộc_lần_3_(602_-_905)\"><span class=\"tocnumber\">2.5</span> <span class=\"toctext\">Bắc thuộc lần 3 (602 - 905)</span></a></li>\n",
       " </ul>\n",
       " </li>,\n",
       " <li class=\"toclevel-1 tocsection-11\"><a href=\"#Thời_kỳ_quân_chủ_tự_chủ\"><span class=\"tocnumber\">3</span> <span class=\"toctext\">Thời kỳ quân chủ tự chủ</span></a>\n",
       " <ul>\n",
       " <li class=\"toclevel-2 tocsection-12\"><a href=\"#Họ_Khúc_(905_-_923_hoặc_930)_và_Họ_Dương_(931_-_938)\"><span class=\"tocnumber\">3.1</span> <span class=\"toctext\">Họ Khúc (905 - 923 hoặc 930) và Họ Dương (931 - 938)</span></a></li>\n",
       " </ul>\n",
       " </li>,\n",
       " <li class=\"toclevel-1 tocsection-13\"><a href=\"#Thời_kỳ_quân_chủ_độc_lập\"><span class=\"tocnumber\">4</span> <span class=\"toctext\">Thời kỳ quân chủ độc lập</span></a>\n",
       " <ul>\n",
       " <li class=\"toclevel-2 tocsection-14\"><a href=\"#Nhà_Ngô_(939_-_965)\"><span class=\"tocnumber\">4.1</span> <span class=\"toctext\">Nhà Ngô (939 - 965)</span></a></li>\n",
       " <li class=\"toclevel-2 tocsection-15\"><a href=\"#Nhà_Đinh_(968_-_980)\"><span class=\"tocnumber\">4.2</span> <span class=\"toctext\">Nhà Đinh (968 - 980)</span></a></li>\n",
       " <li class=\"toclevel-2 tocsection-16\"><a href=\"#Nhà_Tiền_Lê_(981_-_1009)\"><span class=\"tocnumber\">4.3</span> <span class=\"toctext\">Nhà Tiền Lê (981 - 1009)</span></a></li>\n",
       " <li class=\"toclevel-2 tocsection-17\"><a href=\"#Nhà_Lý_(1009_-_1225)\"><span class=\"tocnumber\">4.4</span> <span class=\"toctext\">Nhà Lý (1009 - 1225)</span></a></li>\n",
       " <li class=\"toclevel-2 tocsection-18\"><a href=\"#Nhà_Trần_(1226_-_1400)\"><span class=\"tocnumber\">4.5</span> <span class=\"toctext\">Nhà Trần (1226 - 1400)</span></a></li>\n",
       " <li class=\"toclevel-2 tocsection-19\"><a href=\"#Nhà_Hồ_(1400_-_1407)\"><span class=\"tocnumber\">4.6</span> <span class=\"toctext\">Nhà Hồ (1400 - 1407)</span></a></li>\n",
       " </ul>\n",
       " </li>,\n",
       " <li class=\"toclevel-1 tocsection-20\"><a href=\"#Thời_kỳ_Bắc_thuộc_4\"><span class=\"tocnumber\">5</span> <span class=\"toctext\">Thời kỳ Bắc thuộc 4</span></a>\n",
       " <ul>\n",
       " <li class=\"toclevel-2 tocsection-21\"><a href=\"#Bắc_thuộc_lần_4_(1407_-_1427)\"><span class=\"tocnumber\">5.1</span> <span class=\"toctext\">Bắc thuộc lần 4 (1407 - 1427)</span></a></li>\n",
       " </ul>\n",
       " </li>,\n",
       " <li class=\"toclevel-1 tocsection-22\"><a href=\"#Thời_kỳ_quân_chủ_trung_hưng\"><span class=\"tocnumber\">6</span> <span class=\"toctext\">Thời kỳ quân chủ trung hưng</span></a>\n",
       " <ul>\n",
       " <li class=\"toclevel-2 tocsection-23\"><a href=\"#Nhà_Hậu_Lê_-_giai_đoạn_Lê_sơ_(1428_-_1527)\"><span class=\"tocnumber\">6.1</span> <span class=\"toctext\">Nhà Hậu Lê - giai đoạn Lê sơ (1428 - 1527)</span></a></li>\n",
       " </ul>\n",
       " </li>,\n",
       " <li class=\"toclevel-1 tocsection-24\"><a href=\"#Thời_kỳ_quân_chủ_chia_cắt\"><span class=\"tocnumber\">7</span> <span class=\"toctext\">Thời kỳ quân chủ chia cắt</span></a>\n",
       " <ul>\n",
       " <li class=\"toclevel-2 tocsection-25\"><a href=\"#Nhà_Mạc_(1527_-_1677)\"><span class=\"tocnumber\">7.1</span> <span class=\"toctext\">Nhà Mạc (1527 - 1677)</span></a></li>\n",
       " <li class=\"toclevel-2 tocsection-26\"><a href=\"#Nhà_Hậu_Lê_-_giai_đoạn_Lê_trung_hưng_(1533_-_1789)\"><span class=\"tocnumber\">7.2</span> <span class=\"toctext\">Nhà Hậu Lê - giai đoạn Lê trung hưng (1533 - 1789)</span></a>\n",
       " <ul>\n",
       " <li class=\"toclevel-3 tocsection-27\"><a href=\"#Chúa_Trịnh_-_Đàng_Ngoài_(1545_-_1787)\"><span class=\"tocnumber\">7.2.1</span> <span class=\"toctext\">Chúa Trịnh - Đàng Ngoài (1545 - 1787)</span></a></li>\n",
       " <li class=\"toclevel-3 tocsection-28\"><a href=\"#Chúa_Nguyễn_-_Đàng_Trong_(1558_-_1777)\"><span class=\"tocnumber\">7.2.2</span> <span class=\"toctext\">Chúa Nguyễn - Đàng Trong (1558 - 1777)</span></a></li>\n",
       " <li class=\"toclevel-3 tocsection-29\"><a href=\"#Trịnh-Nguyễn_phân_tranh_(1627_-_1775)\"><span class=\"tocnumber\">7.2.3</span> <span class=\"toctext\">Trịnh-Nguyễn phân tranh (1627 - 1775)</span></a></li>\n",
       " </ul>\n",
       " </li>\n",
       " <li class=\"toclevel-2 tocsection-30\"><a href=\"#Nhà_Tây_Sơn_(1778_-_1802)\"><span class=\"tocnumber\">7.3</span> <span class=\"toctext\">Nhà Tây Sơn (1778 - 1802)</span></a></li>\n",
       " </ul>\n",
       " </li>,\n",
       " <li class=\"toclevel-1 tocsection-31\"><a href=\"#Thời_kỳ_quân_chủ_thống_nhất\"><span class=\"tocnumber\">8</span> <span class=\"toctext\">Thời kỳ quân chủ thống nhất</span></a>\n",
       " <ul>\n",
       " <li class=\"toclevel-2 tocsection-32\"><a href=\"#Nhà_Nguyễn_-_giai_đoạn_độc_lập_(1802_-_1884)\"><span class=\"tocnumber\">8.1</span> <span class=\"toctext\">Nhà Nguyễn - giai đoạn độc lập (1802 - 1884)</span></a></li>\n",
       " </ul>\n",
       " </li>,\n",
       " <li class=\"toclevel-1 tocsection-33\"><a href=\"#Thời_kỳ_thuộc_địa\"><span class=\"tocnumber\">9</span> <span class=\"toctext\">Thời kỳ thuộc địa</span></a>\n",
       " <ul>\n",
       " <li class=\"toclevel-2 tocsection-34\"><a href=\"#Pháp_thuộc_(1858_-_1945)\"><span class=\"tocnumber\">9.1</span> <span class=\"toctext\">Pháp thuộc (1858 - 1945)</span></a></li>\n",
       " <li class=\"toclevel-2 tocsection-35\"><a href=\"#Nhật_thuộc_(1940_-_1945)\"><span class=\"tocnumber\">9.2</span> <span class=\"toctext\">Nhật thuộc (1940 - 1945)</span></a></li>\n",
       " </ul>\n",
       " </li>,\n",
       " <li class=\"toclevel-1 tocsection-36\"><a href=\"#Thời_kỳ_cộng_hòa_độc_lập\"><span class=\"tocnumber\">10</span> <span class=\"toctext\">Thời kỳ cộng hòa độc lập</span></a>\n",
       " <ul>\n",
       " <li class=\"toclevel-2 tocsection-37\"><a href=\"#Việt_Nam_Dân_chủ_Cộng_hòa_(1945_-_1976)\"><span class=\"tocnumber\">10.1</span> <span class=\"toctext\">Việt Nam Dân chủ Cộng hòa (1945 - 1976)</span></a>\n",
       " <ul>\n",
       " <li class=\"toclevel-3 tocsection-38\"><a href=\"#Chiến_tranh_Đông_Dương_lần_I_(1945_-_1954)\"><span class=\"tocnumber\">10.1.1</span> <span class=\"toctext\">Chiến tranh Đông Dương lần I (1945 - 1954)</span></a></li>\n",
       " <li class=\"toclevel-3 tocsection-39\"><a href=\"#Chiến_tranh_Đông_Dương_lần_II_(1955_-_1975)\"><span class=\"tocnumber\">10.1.2</span> <span class=\"toctext\">Chiến tranh Đông Dương lần II (1955 - 1975)</span></a></li>\n",
       " </ul>\n",
       " </li>\n",
       " <li class=\"toclevel-2 tocsection-40\"><a href=\"#Quốc_gia_Việt_Nam_và_Việt_Nam_Cộng_hòa_(1949_-_1975)\"><span class=\"tocnumber\">10.2</span> <span class=\"toctext\">Quốc gia Việt Nam và Việt Nam Cộng hòa (1949 - 1975)</span></a></li>\n",
       " </ul>\n",
       " </li>,\n",
       " <li class=\"toclevel-1 tocsection-41\"><a href=\"#Thời_kỳ_cộng_hòa_thống_nhất\"><span class=\"tocnumber\">11</span> <span class=\"toctext\">Thời kỳ cộng hòa thống nhất</span></a>\n",
       " <ul>\n",
       " <li class=\"toclevel-2 tocsection-42\"><a href=\"#Cộng_hòa_Xã_hội_Chủ_nghĩa_Việt_Nam_(1976_-_1990)\"><span class=\"tocnumber\">11.1</span> <span class=\"toctext\">Cộng hòa Xã hội Chủ nghĩa Việt Nam (1976 - 1990)</span></a></li>\n",
       " </ul>\n",
       " </li>,\n",
       " <li class=\"toclevel-1 tocsection-43\"><a href=\"#Thời_kỳ_cộng_hòa_đổi_mới\"><span class=\"tocnumber\">12</span> <span class=\"toctext\">Thời kỳ cộng hòa đổi mới</span></a>\n",
       " <ul>\n",
       " <li class=\"toclevel-2 tocsection-44\"><a href=\"#Cộng_hòa_Xã_hội_Chủ_nghĩa_Việt_Nam_(1990_-_nay)\"><span class=\"tocnumber\">12.1</span> <span class=\"toctext\">Cộng hòa Xã hội Chủ nghĩa Việt Nam (1990 - nay)</span></a></li>\n",
       " </ul>\n",
       " </li>,\n",
       " <li class=\"toclevel-1 tocsection-45\"><a href=\"#Tham_khảo\"><span class=\"tocnumber\">13</span> <span class=\"toctext\">Tham khảo</span></a></li>,\n",
       " <li class=\"toclevel-1 tocsection-46\"><a href=\"#Xem_thêm\"><span class=\"tocnumber\">14</span> <span class=\"toctext\">Xem thêm</span></a></li>]"
      ]
     },
     "execution_count": 92,
     "metadata": {},
     "output_type": "execute_result"
    }
   ],
   "source": [
    "soup.find(id=\"toc\").find_all(\"li\", attrs={\"class\": \"toclevel-1\"})"
   ]
  },
  {
   "cell_type": "code",
   "execution_count": 93,
   "metadata": {},
   "outputs": [
    {
     "name": "stdout",
     "output_type": "stream",
     "text": [
      "1 Thời kỳ nguyên sử\n",
      "2 Thời kỳ Bắc thuộc 1, 2 và 3\n",
      "3 Thời kỳ quân chủ tự chủ\n",
      "4 Thời kỳ quân chủ độc lập\n",
      "5 Thời kỳ Bắc thuộc 4\n",
      "6 Thời kỳ quân chủ trung hưng\n",
      "7 Thời kỳ quân chủ chia cắt\n",
      "8 Thời kỳ quân chủ thống nhất\n",
      "9 Thời kỳ thuộc địa\n",
      "10 Thời kỳ cộng hòa độc lập\n",
      "11 Thời kỳ cộng hòa thống nhất\n",
      "12 Thời kỳ cộng hòa đổi mới\n",
      "13 Tham khảo\n",
      "14 Xem thêm\n"
     ]
    }
   ],
   "source": [
    "for era in soup.find(id=\"toc\").find_all(\"li\", attrs={\"class\": \"toclevel-1\"}): \n",
    "    print (era.a.text)"
   ]
  },
  {
   "cell_type": "code",
   "execution_count": 100,
   "metadata": {},
   "outputs": [
    {
     "name": "stdout",
     "output_type": "stream",
     "text": [
      "1.1 Kỷ Hồng Bàng (2879 TCN - 257 TCN)\n",
      "1.2 Nhà Thục (257 TCN - 207 TCN hoặc 179 TCN)\n",
      "1.3 Nhà Triệu (207 TCN - 111 TCN)\n",
      "2.1 Bắc thuộc lần 1 (111 TCN - 40 SCN)\n",
      "2.2 Trưng Vương (40 - 43)\n",
      "2.3 Bắc thuộc lần 2 (43 - 541)\n",
      "2.4 Nhà Tiền Lý (544 - 602)\n",
      "2.5 Bắc thuộc lần 3 (602 - 905)\n",
      "3.1 Họ Khúc (905 - 923 hoặc 930) và Họ Dương (931 - 938)\n",
      "4.1 Nhà Ngô (939 - 965)\n",
      "4.2 Nhà Đinh (968 - 980)\n",
      "4.3 Nhà Tiền Lê (981 - 1009)\n",
      "4.4 Nhà Lý (1009 - 1225)\n",
      "4.5 Nhà Trần (1226 - 1400)\n",
      "4.6 Nhà Hồ (1400 - 1407)\n",
      "5.1 Bắc thuộc lần 4 (1407 - 1427)\n",
      "6.1 Nhà Hậu Lê - giai đoạn Lê sơ (1428 - 1527)\n",
      "7.1 Nhà Mạc (1527 - 1677)\n",
      "7.2 Nhà Hậu Lê - giai đoạn Lê trung hưng (1533 - 1789)\n",
      "7.3 Nhà Tây Sơn (1778 - 1802)\n",
      "8.1 Nhà Nguyễn - giai đoạn độc lập (1802 - 1884)\n",
      "9.1 Pháp thuộc (1858 - 1945)\n",
      "9.2 Nhật thuộc (1940 - 1945)\n",
      "10.1 Việt Nam Dân chủ Cộng hòa (1945 - 1976)\n",
      "10.2 Quốc gia Việt Nam và Việt Nam Cộng hòa (1949 - 1975)\n",
      "11.1 Cộng hòa Xã hội Chủ nghĩa Việt Nam (1976 - 1990)\n",
      "12.1 Cộng hòa Xã hội Chủ nghĩa Việt Nam (1990 - nay)\n"
     ]
    }
   ],
   "source": [
    "for era in soup.find(id=\"toc\").find_all(\"li\", attrs={\"class\": \"toclevel-2\"}): \n",
    "    print (era.a.text)"
   ]
  },
  {
   "cell_type": "code",
   "execution_count": 99,
   "metadata": {},
   "outputs": [
    {
     "name": "stdout",
     "output_type": "stream",
     "text": [
      "Kỷ Hồng Bàng (2879 TCN - 257 TCN)[sửa | sửa mã nguồn]\n",
      "Nhà Thục (257 TCN - 207 TCN hoặc 179 TCN)[sửa | sửa mã nguồn]\n",
      "Nhà Triệu (207 TCN - 111 TCN)[sửa | sửa mã nguồn]\n",
      "Bắc thuộc lần 1 (111 TCN - 40 SCN)[sửa | sửa mã nguồn]\n",
      "Trưng Vương (40 - 43)[sửa | sửa mã nguồn]\n",
      "Bắc thuộc lần 2 (43 - 541)[sửa | sửa mã nguồn]\n",
      "Nhà Tiền Lý (544 - 602)[sửa | sửa mã nguồn]\n",
      "Bắc thuộc lần 3 (602 - 905)[sửa | sửa mã nguồn]\n",
      "Họ Khúc (905 - 923 hoặc 930) và Họ Dương (931 - 938)[sửa | sửa mã nguồn]\n",
      "Nhà Ngô (939 - 965)[sửa | sửa mã nguồn]\n",
      "Nhà Đinh (968 - 980)[sửa | sửa mã nguồn]\n",
      "Nhà Tiền Lê (981 - 1009)[sửa | sửa mã nguồn]\n",
      "Nhà Lý (1009 - 1225)[sửa | sửa mã nguồn]\n",
      "Nhà Trần (1226 - 1400)[sửa | sửa mã nguồn]\n",
      "Nhà Hồ (1400 - 1407)[sửa | sửa mã nguồn]\n",
      "Bắc thuộc lần 4 (1407 - 1427)[sửa | sửa mã nguồn]\n",
      "Nhà Hậu Lê - giai đoạn Lê sơ (1428 - 1527)[sửa | sửa mã nguồn]\n",
      "Nhà Mạc (1527 - 1677)[sửa | sửa mã nguồn]\n",
      "Nhà Hậu Lê - giai đoạn Lê trung hưng (1533 - 1789)[sửa | sửa mã nguồn]\n",
      "Nhà Tây Sơn (1778 - 1802)[sửa | sửa mã nguồn]\n",
      "Nhà Nguyễn - giai đoạn độc lập (1802 - 1884)[sửa | sửa mã nguồn]\n",
      "Pháp thuộc (1858 - 1945)[sửa | sửa mã nguồn]\n",
      "Nhật thuộc (1940 - 1945)[sửa | sửa mã nguồn]\n",
      "Việt Nam Dân chủ Cộng hòa (1945 - 1976)[sửa | sửa mã nguồn]\n",
      "Quốc gia Việt Nam và Việt Nam Cộng hòa (1949 - 1975)[sửa | sửa mã nguồn]\n",
      "Cộng hòa Xã hội Chủ nghĩa Việt Nam (1976 - 1990)[sửa | sửa mã nguồn]\n",
      "Cộng hòa Xã hội Chủ nghĩa Việt Nam (1990 - nay)[sửa | sửa mã nguồn]\n"
     ]
    }
   ],
   "source": [
    "for minor_era in soup.find_all(id=\"mw-content-text\")[0].find_all('h3'):\n",
    "    print (minor_era.text)"
   ]
  },
  {
   "cell_type": "code",
   "execution_count": null,
   "metadata": {},
   "outputs": [],
   "source": []
  }
 ],
 "metadata": {
  "kernelspec": {
   "display_name": "Python 3",
   "language": "python",
   "name": "python3"
  },
  "language_info": {
   "codemirror_mode": {
    "name": "ipython",
    "version": 3
   },
   "file_extension": ".py",
   "mimetype": "text/x-python",
   "name": "python",
   "nbconvert_exporter": "python",
   "pygments_lexer": "ipython3",
   "version": "3.6.5"
  }
 },
 "nbformat": 4,
 "nbformat_minor": 2
}
